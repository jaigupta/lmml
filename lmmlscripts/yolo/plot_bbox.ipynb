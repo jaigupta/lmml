{
 "metadata": {
  "language_info": {
   "codemirror_mode": {
    "name": "ipython",
    "version": 3
   },
   "file_extension": ".py",
   "mimetype": "text/x-python",
   "name": "python",
   "nbconvert_exporter": "python",
   "pygments_lexer": "ipython3",
   "version": "3.8.2-final"
  },
  "orig_nbformat": 2,
  "kernelspec": {
   "name": "python3",
   "display_name": "Python 3.8.2 64-bit",
   "metadata": {
    "interpreter": {
     "hash": "d828891d8f11daa5cef25c64d56fabdf4e549de936759a3fe043f26ccf647716"
    }
   }
  }
 },
 "nbformat": 4,
 "nbformat_minor": 2,
 "cells": [
  {
   "cell_type": "code",
   "execution_count": null,
   "metadata": {},
   "outputs": [],
   "source": [
    "import os\n",
    "import sys\n",
    "\n",
    "sys.path.insert(0, '../..')\n",
    "\n",
    "from absl import flags\n",
    "flags.FLAGS(['notebook'])\n",
    "\n",
    "import tensorflow as tf\n",
    "\n",
    "from lmml.models.yolov3 import draw_labels, draw_outputs, YoloV3, yolo_outputs_to_pred, yolo_anchor_masks, yolo_anchors\n",
    "from lmmlscripts.yolo.dataset import load_dataset"
   ]
  },
  {
   "cell_type": "code",
   "execution_count": null,
   "metadata": {},
   "outputs": [],
   "source": [
    "# Load val dataset\n",
    "ds = load_dataset('tfds://voc/2007', 'validation', 4, 416)\n",
    "ds_iter = iter(ds)"
   ]
  },
  {
   "cell_type": "code",
   "execution_count": null,
   "metadata": {},
   "outputs": [],
   "source": [
    "# Load checkpoints\n",
    "strategy = tf.distribute.MirroredStrategy(devices=tf.config.list_logical_devices('CPU'))\n",
    "with strategy.scope():\n",
    "    BACKBONE_SAVED_MODEL_PATH = '../../output/darknet/saved_model/backbone'\n",
    "    YOLO_SAVED_MODEL_PATH = '../../output/yolo/saved_model/model'\n",
    "    backbone_model  = (\n",
    "        tf.saved_model.load(BACKBONE_SAVED_MODEL_PATH)\n",
    "        .signatures['serving_default'])\n",
    "\n",
    "    model = (\n",
    "        tf.saved_model.load(YOLO_SAVED_MODEL_PATH)\n",
    "        .signatures['serving_default']\n",
    "    )\n",
    "\n"
   ]
  },
  {
   "cell_type": "code",
   "execution_count": null,
   "metadata": {},
   "outputs": [],
   "source": [
    "# run checkpoint on dataset and plot the output on image.\n",
    "\n",
    "@tf.function\n",
    "def predict(input):\n",
    "    outputs = backbone_model(input_1=input)\n",
    "    x_36, x_61, x = outputs['add_10'], outputs['add_18'], outputs['add_22']\n",
    "    return model(f_36=x_36, f_61=x_61, f=x)"
   ]
  },
  {
   "cell_type": "code",
   "execution_count": null,
   "metadata": {},
   "outputs": [],
   "source": [
    "\n",
    "class_names = ['class_' + str(i) for i in range(100)]\n",
    "\n",
    "inp, labels = next(ds_iter)\n",
    "outputs = strategy.run(predict, (inp,))\n",
    "boxes, scores, classes, nums = yolo_outputs_to_pred(\n",
    "    outputs[\"yolo_output_0\"], outputs[\"yolo_output_1\"], outputs[\"yolo_output_2\"],\n",
    "    yolo_anchors, yolo_anchor_masks, 20)"
   ]
  },
  {
   "cell_type": "code",
   "execution_count": null,
   "metadata": {},
   "outputs": [],
   "source": [
    "import cv2\n",
    "from matplotlib import pyplot as plt\n",
    "img = cv2.cvtColor(inp[0].numpy(), cv2.COLOR_RGB2BGR)\n",
    "plt.figure()\n",
    "plt.imshow(draw_outputs(img, (boxes, scores, classes, nums), class_names))\n",
    "\n",
    "res = draw_labels(inp[0], labels[0].numpy(), class_names)\n",
    "plt.figure()\n",
    "plt.imshow(res)"
   ]
  },
  {
   "cell_type": "code",
   "execution_count": null,
   "metadata": {},
   "outputs": [],
   "source": [
    "labelsi"
   ]
  },
  {
   "source": [],
   "cell_type": "markdown",
   "metadata": {}
  },
  {
   "cell_type": "code",
   "execution_count": null,
   "metadata": {},
   "outputs": [],
   "source": []
  }
 ]
}